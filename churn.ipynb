{
 "cells": [
  {
   "cell_type": "code",
   "execution_count": 1,
   "id": "d7e6a585-6aab-446d-b48c-7277b81ee116",
   "metadata": {},
   "outputs": [],
   "source": [
    "import pandas as pd"
   ]
  },
  {
   "cell_type": "code",
   "execution_count": 2,
   "id": "b9ee3372-6ef4-4065-97fa-3a1b4b813f1e",
   "metadata": {},
   "outputs": [],
   "source": [
    "# Load dataset\n",
    "churn = pd.read_csv('C:/Documents/customer_churn.csv')"
   ]
  },
  {
   "cell_type": "code",
   "execution_count": 4,
   "id": "adffaea4-ee06-4484-8db6-4db66d2b9076",
   "metadata": {},
   "outputs": [
    {
     "data": {
      "text/plain": [
       "(7048, 21)"
      ]
     },
     "execution_count": 4,
     "metadata": {},
     "output_type": "execute_result"
    }
   ],
   "source": [
    "# Check the dataset shape\n",
    "churn.shape"
   ]
  },
  {
   "cell_type": "code",
   "execution_count": 5,
   "id": "86e3e8a8-5e4a-4de3-9a89-f55689369b13",
   "metadata": {},
   "outputs": [
    {
     "name": "stdout",
     "output_type": "stream",
     "text": [
      "<class 'pandas.core.frame.DataFrame'>\n",
      "RangeIndex: 7048 entries, 0 to 7047\n",
      "Data columns (total 21 columns):\n",
      " #   Column            Non-Null Count  Dtype \n",
      "---  ------            --------------  ----- \n",
      " 0   customerID        7040 non-null   object\n",
      " 1   gender            7048 non-null   object\n",
      " 2   SeniorCitizen     7048 non-null   int64 \n",
      " 3   Partner           7048 non-null   object\n",
      " 4   Dependents        7048 non-null   object\n",
      " 5   tenure            7048 non-null   int64 \n",
      " 6   PhoneService      7048 non-null   object\n",
      " 7   MultipleLines     7048 non-null   object\n",
      " 8   InternetService   7040 non-null   object\n",
      " 9   OnlineSecurity    7048 non-null   object\n",
      " 10  OnlineBackup      7048 non-null   object\n",
      " 11  DeviceProtection  7039 non-null   object\n",
      " 12  TechSupport       7048 non-null   object\n",
      " 13  StreamingTV       7048 non-null   object\n",
      " 14  StreamingMovies   7048 non-null   object\n",
      " 15  Contract          7048 non-null   object\n",
      " 16  PaperlessBilling  7048 non-null   object\n",
      " 17  PaymentMethod     7048 non-null   object\n",
      " 18  MonthlyCharges    7048 non-null   object\n",
      " 19  TotalCharges      7039 non-null   object\n",
      " 20  Churn             7048 non-null   object\n",
      "dtypes: int64(2), object(19)\n",
      "memory usage: 1.1+ MB\n"
     ]
    }
   ],
   "source": [
    "# Check data types and non-null counts\n",
    "churn.info()"
   ]
  },
  {
   "cell_type": "code",
   "execution_count": 6,
   "id": "fc4eb493-283f-44d4-a725-368a7ea53e33",
   "metadata": {},
   "outputs": [
    {
     "data": {
      "text/html": [
       "<div>\n",
       "<style scoped>\n",
       "    .dataframe tbody tr th:only-of-type {\n",
       "        vertical-align: middle;\n",
       "    }\n",
       "\n",
       "    .dataframe tbody tr th {\n",
       "        vertical-align: top;\n",
       "    }\n",
       "\n",
       "    .dataframe thead th {\n",
       "        text-align: right;\n",
       "    }\n",
       "</style>\n",
       "<table border=\"1\" class=\"dataframe\">\n",
       "  <thead>\n",
       "    <tr style=\"text-align: right;\">\n",
       "      <th></th>\n",
       "      <th>SeniorCitizen</th>\n",
       "      <th>tenure</th>\n",
       "    </tr>\n",
       "  </thead>\n",
       "  <tbody>\n",
       "    <tr>\n",
       "      <th>count</th>\n",
       "      <td>7048.000000</td>\n",
       "      <td>7048.000000</td>\n",
       "    </tr>\n",
       "    <tr>\n",
       "      <th>mean</th>\n",
       "      <td>0.162032</td>\n",
       "      <td>32.375851</td>\n",
       "    </tr>\n",
       "    <tr>\n",
       "      <th>std</th>\n",
       "      <td>0.368506</td>\n",
       "      <td>24.559625</td>\n",
       "    </tr>\n",
       "    <tr>\n",
       "      <th>min</th>\n",
       "      <td>0.000000</td>\n",
       "      <td>0.000000</td>\n",
       "    </tr>\n",
       "    <tr>\n",
       "      <th>25%</th>\n",
       "      <td>0.000000</td>\n",
       "      <td>9.000000</td>\n",
       "    </tr>\n",
       "    <tr>\n",
       "      <th>50%</th>\n",
       "      <td>0.000000</td>\n",
       "      <td>29.000000</td>\n",
       "    </tr>\n",
       "    <tr>\n",
       "      <th>75%</th>\n",
       "      <td>0.000000</td>\n",
       "      <td>55.000000</td>\n",
       "    </tr>\n",
       "    <tr>\n",
       "      <th>max</th>\n",
       "      <td>1.000000</td>\n",
       "      <td>72.000000</td>\n",
       "    </tr>\n",
       "  </tbody>\n",
       "</table>\n",
       "</div>"
      ],
      "text/plain": [
       "       SeniorCitizen       tenure\n",
       "count    7048.000000  7048.000000\n",
       "mean        0.162032    32.375851\n",
       "std         0.368506    24.559625\n",
       "min         0.000000     0.000000\n",
       "25%         0.000000     9.000000\n",
       "50%         0.000000    29.000000\n",
       "75%         0.000000    55.000000\n",
       "max         1.000000    72.000000"
      ]
     },
     "execution_count": 6,
     "metadata": {},
     "output_type": "execute_result"
    }
   ],
   "source": [
    "# Summary statistics for numerical columns\n",
    "churn.describe()"
   ]
  },
  {
   "cell_type": "code",
   "execution_count": 7,
   "id": "bb392900-43f8-4298-b84b-4c95473863b9",
   "metadata": {},
   "outputs": [
    {
     "data": {
      "text/plain": [
       "gender\n",
       "Male      3551\n",
       "Female    3486\n",
       "male         6\n",
       "female       5\n",
       "Name: count, dtype: int64"
      ]
     },
     "execution_count": 7,
     "metadata": {},
     "output_type": "execute_result"
    }
   ],
   "source": [
    "# Check unique values in categorical columns\n",
    "churn['gender'].value_counts()"
   ]
  },
  {
   "cell_type": "code",
   "execution_count": 8,
   "id": "b8128994-3894-4ae0-8d87-cad5ff389ea1",
   "metadata": {},
   "outputs": [
    {
     "data": {
      "text/plain": [
       "customerID          8\n",
       "gender              0\n",
       "SeniorCitizen       0\n",
       "Partner             0\n",
       "Dependents          0\n",
       "tenure              0\n",
       "PhoneService        0\n",
       "MultipleLines       0\n",
       "InternetService     8\n",
       "OnlineSecurity      0\n",
       "OnlineBackup        0\n",
       "DeviceProtection    9\n",
       "TechSupport         0\n",
       "StreamingTV         0\n",
       "StreamingMovies     0\n",
       "Contract            0\n",
       "PaperlessBilling    0\n",
       "PaymentMethod       0\n",
       "MonthlyCharges      0\n",
       "TotalCharges        9\n",
       "Churn               0\n",
       "dtype: int64"
      ]
     },
     "execution_count": 8,
     "metadata": {},
     "output_type": "execute_result"
    }
   ],
   "source": [
    "# Check missing values per column\n",
    "churn.isnull().sum()"
   ]
  },
  {
   "cell_type": "code",
   "execution_count": 9,
   "id": "b8262481-5a40-4ae7-9fdd-f2ddb3d24253",
   "metadata": {},
   "outputs": [],
   "source": [
    "churn = churn[churn['customerID'].notnull()]"
   ]
  },
  {
   "cell_type": "code",
   "execution_count": 10,
   "id": "2adb112f-751a-4b68-8199-62b4b6965962",
   "metadata": {},
   "outputs": [],
   "source": [
    "churn = churn.dropna(subset=['customerID'])"
   ]
  },
  {
   "cell_type": "code",
   "execution_count": 12,
   "id": "d7a28427-8955-4215-91b5-51549311b159",
   "metadata": {},
   "outputs": [],
   "source": [
    "churn['InternetService'] = churn['InternetService'].fillna(churn['InternetService'].mode()[0])\n",
    "churn['DeviceProtection'] = churn['DeviceProtection'].fillna(churn['DeviceProtection'].mode()[0])"
   ]
  },
  {
   "cell_type": "code",
   "execution_count": 13,
   "id": "77ea35c7-7fec-4b82-a27c-2860b5ed593a",
   "metadata": {},
   "outputs": [],
   "source": [
    "churn['TotalCharges'] = pd.to_numeric(churn['TotalCharges'], errors='coerce')"
   ]
  },
  {
   "cell_type": "code",
   "execution_count": 14,
   "id": "b5bf7e08-7231-4e14-be40-bfbe693edce6",
   "metadata": {},
   "outputs": [],
   "source": [
    "churn['TotalCharges'] = churn['TotalCharges'].fillna(0.0)"
   ]
  },
  {
   "cell_type": "code",
   "execution_count": 15,
   "id": "2213040e-433c-46f8-8ed7-755941da95b4",
   "metadata": {},
   "outputs": [
    {
     "data": {
      "text/plain": [
       "customerID          0\n",
       "gender              0\n",
       "SeniorCitizen       0\n",
       "Partner             0\n",
       "Dependents          0\n",
       "tenure              0\n",
       "PhoneService        0\n",
       "MultipleLines       0\n",
       "InternetService     0\n",
       "OnlineSecurity      0\n",
       "OnlineBackup        0\n",
       "DeviceProtection    0\n",
       "TechSupport         0\n",
       "StreamingTV         0\n",
       "StreamingMovies     0\n",
       "Contract            0\n",
       "PaperlessBilling    0\n",
       "PaymentMethod       0\n",
       "MonthlyCharges      0\n",
       "TotalCharges        0\n",
       "Churn               0\n",
       "dtype: int64"
      ]
     },
     "execution_count": 15,
     "metadata": {},
     "output_type": "execute_result"
    }
   ],
   "source": [
    "churn.isnull().sum()"
   ]
  },
  {
   "cell_type": "code",
   "execution_count": 17,
   "id": "8abd3baf-605a-45b2-af42-d9bab1544c16",
   "metadata": {},
   "outputs": [
    {
     "data": {
      "text/plain": [
       "5"
      ]
     },
     "execution_count": 17,
     "metadata": {},
     "output_type": "execute_result"
    }
   ],
   "source": [
    "# Check for duplicates:\n",
    "churn.duplicated().sum()"
   ]
  },
  {
   "cell_type": "code",
   "execution_count": 20,
   "id": "4fc2756f-a6e6-41dc-b020-bae94226b631",
   "metadata": {},
   "outputs": [
    {
     "name": "stdout",
     "output_type": "stream",
     "text": [
      "      customerID  gender  SeniorCitizen Partner Dependents  tenure  \\\n",
      "5     9237-HQITU  Female              0      No         No       2   \n",
      "58    8769-KKTPH  Female              0     Yes        Yes      63   \n",
      "4111  2650-GYRYL    Male              0     Yes        Yes      33   \n",
      "6853  5060-TQUQN    Male              0     Yes        Yes      30   \n",
      "7039  0639-TSIQW  Female              0      No         No      67   \n",
      "\n",
      "     PhoneService MultipleLines InternetService       OnlineSecurity  ...  \\\n",
      "5             Yes            No     Fiber optic                   No  ...   \n",
      "58            Yes           Yes     Fiber optic                  Yes  ...   \n",
      "4111          Yes            No              No  No internet service  ...   \n",
      "6853          Yes           Yes     Fiber optic                   No  ...   \n",
      "7039          Yes           Yes     Fiber optic                  Yes  ...   \n",
      "\n",
      "         DeviceProtection          TechSupport          StreamingTV  \\\n",
      "5                      No                   No                   No   \n",
      "58                     No                   No                  Yes   \n",
      "4111  No internet service  No internet service  No internet service   \n",
      "6853                   No                  Yes                   No   \n",
      "7039                  Yes                   No                  Yes   \n",
      "\n",
      "          StreamingMovies        Contract PaperlessBilling  \\\n",
      "5                      No  Month-to-month              Yes   \n",
      "58                    Yes        One year              Yes   \n",
      "4111  No internet service        One year              Yes   \n",
      "6853                   No  Month-to-month              Yes   \n",
      "7039                   No  Month-to-month              Yes   \n",
      "\n",
      "                  PaymentMethod MonthlyCharges TotalCharges  Churn  \n",
      "5              Electronic check           70.7       151.65    Yes  \n",
      "58      Credit card (automatic)          99.65      6311.20     No  \n",
      "4111  Bank transfer (automatic)          19.45       600.25     No  \n",
      "6853  Bank transfer (automatic)          83.55      2570.20     No  \n",
      "7039    Credit card (automatic)         102.95      6886.25    Yes  \n",
      "\n",
      "[5 rows x 21 columns]\n"
     ]
    }
   ],
   "source": [
    "duplicates = churn[churn.duplicated()]\n",
    "print(duplicates)"
   ]
  },
  {
   "cell_type": "code",
   "execution_count": 21,
   "id": "f8b05cf7-a990-4309-99dd-dbb07d7fe33f",
   "metadata": {},
   "outputs": [],
   "source": [
    "# Drop the duplicate rows\n",
    "churn = churn.drop_duplicates()"
   ]
  },
  {
   "cell_type": "code",
   "execution_count": 22,
   "id": "8b7eb08d-e5b7-4d94-a0ee-66b4c570eba1",
   "metadata": {},
   "outputs": [
    {
     "data": {
      "text/plain": [
       "0"
      ]
     },
     "execution_count": 22,
     "metadata": {},
     "output_type": "execute_result"
    }
   ],
   "source": [
    "churn.duplicated().sum()"
   ]
  },
  {
   "cell_type": "code",
   "execution_count": 23,
   "id": "c2959bb2-1443-49c5-9a6c-6c5f9f3787ac",
   "metadata": {},
   "outputs": [],
   "source": [
    "# Standardize the gender\n",
    "churn['gender'] = churn['gender'].str.strip().str.capitalize()"
   ]
  },
  {
   "cell_type": "code",
   "execution_count": 24,
   "id": "68443218-9603-444d-ae51-04a4f46753a8",
   "metadata": {},
   "outputs": [
    {
     "data": {
      "text/plain": [
       "gender\n",
       "Male      3552\n",
       "Female    3483\n",
       "Name: count, dtype: int64"
      ]
     },
     "execution_count": 24,
     "metadata": {},
     "output_type": "execute_result"
    }
   ],
   "source": [
    "# check to confirm\n",
    "churn['gender'].value_counts()"
   ]
  },
  {
   "cell_type": "code",
   "execution_count": 37,
   "id": "297e6f45-91c5-43ef-b271-7161d0aaf258",
   "metadata": {},
   "outputs": [
    {
     "name": "stdout",
     "output_type": "stream",
     "text": [
      "\n",
      "Column: customerID\n",
      "customerID\n",
      "7590-VHVEG    1\n",
      "7036-ZZKBD    1\n",
      "5956-YHHRX    1\n",
      "5365-LLFYV    1\n",
      "5855-EIBDE    1\n",
      "             ..\n",
      "9796-MVYXX    1\n",
      "2637-FKFSY    1\n",
      "1552-AAGRX    1\n",
      "4304-TSPVK    1\n",
      "3186-AJIEK    1\n",
      "Name: count, Length: 7035, dtype: int64\n",
      "\n",
      "Column: gender\n",
      "gender\n",
      "Male      3552\n",
      "Female    3483\n",
      "Name: count, dtype: int64\n",
      "\n",
      "Column: Partner\n",
      "Partner\n",
      "No     3637\n",
      "Yes    3398\n",
      "Name: count, dtype: int64\n",
      "\n",
      "Column: Dependents\n",
      "Dependents\n",
      "No     4927\n",
      "Yes    2108\n",
      "Name: count, dtype: int64\n",
      "\n",
      "Column: PhoneService\n",
      "PhoneService\n",
      "Yes    6348\n",
      "No      675\n",
      "yes       7\n",
      "no        5\n",
      "Name: count, dtype: int64\n",
      "\n",
      "Column: MultipleLines\n",
      "MultipleLines\n",
      "No                  3388\n",
      "Yes                 2967\n",
      "No phone service     680\n",
      "Name: count, dtype: int64\n",
      "\n",
      "Column: InternetService\n",
      "InternetService\n",
      "Fiber optic    3097\n",
      "DSL            2414\n",
      "No             1524\n",
      "Name: count, dtype: int64\n",
      "\n",
      "Column: OnlineSecurity\n",
      "OnlineSecurity\n",
      "No                     3488\n",
      "Yes                    2012\n",
      "No internet service    1521\n",
      "yes                       6\n",
      "no                        5\n",
      "no internet service       3\n",
      "Name: count, dtype: int64\n",
      "\n",
      "Column: OnlineBackup\n",
      "OnlineBackup\n",
      "No                     3085\n",
      "Yes                    2426\n",
      "No internet service    1524\n",
      "Name: count, dtype: int64\n",
      "\n",
      "Column: DeviceProtection\n",
      "DeviceProtection\n",
      "No                     3100\n",
      "Yes                    2413\n",
      "No internet service    1522\n",
      "Name: count, dtype: int64\n",
      "\n",
      "Column: TechSupport\n",
      "TechSupport\n",
      "No                     3468\n",
      "Yes                    2043\n",
      "No internet service    1524\n",
      "Name: count, dtype: int64\n",
      "\n",
      "Column: StreamingTV\n",
      "StreamingTV\n",
      "No                     2807\n",
      "Yes                    2704\n",
      "No internet service    1524\n",
      "Name: count, dtype: int64\n",
      "\n",
      "Column: StreamingMovies\n",
      "StreamingMovies\n",
      "No                     2782\n",
      "Yes                    2729\n",
      "No internet service    1524\n",
      "Name: count, dtype: int64\n",
      "\n",
      "Column: Contract\n",
      "Contract\n",
      "Month-to-month    3872\n",
      "Two year          1693\n",
      "One year          1470\n",
      "Name: count, dtype: int64\n",
      "\n",
      "Column: PaperlessBilling\n",
      "PaperlessBilling\n",
      "Yes    4165\n",
      "No     2870\n",
      "Name: count, dtype: int64\n",
      "\n",
      "Column: PaymentMethod\n",
      "PaymentMethod\n",
      "Electronic check             2362\n",
      "Mailed check                 1611\n",
      "Bank transfer (automatic)    1544\n",
      "Credit card (automatic)      1518\n",
      "Name: count, dtype: int64\n",
      "\n",
      "Column: MonthlyCharges\n",
      "MonthlyCharges\n",
      "20.05    61\n",
      "19.85    45\n",
      "19.95    44\n",
      "19.9     44\n",
      "20       43\n",
      "         ..\n",
      "23.65     1\n",
      "114.7     1\n",
      "43.65     1\n",
      "112.4     1\n",
      "78.7      1\n",
      "Name: count, Length: 1584, dtype: int64\n",
      "\n",
      "Column: Churn\n",
      "Churn\n",
      "No     5167\n",
      "Yes    1868\n",
      "Name: count, dtype: int64\n"
     ]
    }
   ],
   "source": [
    "# Check for other columns with text fomatting errors\n",
    "for col in text_columns:\n",
    "    print(f\"\\nColumn: {col}\")\n",
    "    print(churn[col].value_counts(dropna=False))"
   ]
  },
  {
   "cell_type": "code",
   "execution_count": 38,
   "id": "400041ee-a1fc-4d0c-a8ed-8a4c1ef16a3f",
   "metadata": {},
   "outputs": [],
   "source": [
    "# Capitalize the phoneservice and onlinesecurity\n",
    "churn['PhoneService'] = churn['PhoneService'].str.strip().str.capitalize()\n",
    "churn['OnlineSecurity'] = churn['OnlineSecurity'].str.strip().str.capitalize()"
   ]
  },
  {
   "cell_type": "code",
   "execution_count": 41,
   "id": "061012fc-0225-4627-9a81-c045b0b9e07e",
   "metadata": {},
   "outputs": [
    {
     "data": {
      "text/plain": [
       "PhoneService\n",
       "Yes    6355\n",
       "No      680\n",
       "Name: count, dtype: int64"
      ]
     },
     "execution_count": 41,
     "metadata": {},
     "output_type": "execute_result"
    }
   ],
   "source": [
    "# To confirm\n",
    "churn['PhoneService'].value_counts()"
   ]
  },
  {
   "cell_type": "code",
   "execution_count": 43,
   "id": "e9fdff69-e776-4635-93c2-d7c854b8cc0f",
   "metadata": {},
   "outputs": [
    {
     "data": {
      "text/plain": [
       "OnlineSecurity\n",
       "No                     3493\n",
       "Yes                    2018\n",
       "No internet service    1524\n",
       "Name: count, dtype: int64"
      ]
     },
     "execution_count": 43,
     "metadata": {},
     "output_type": "execute_result"
    }
   ],
   "source": [
    "churn['OnlineSecurity'].value_counts()"
   ]
  },
  {
   "cell_type": "code",
   "execution_count": 45,
   "id": "d40a2db6-ad9e-4587-ae8f-398830c49d78",
   "metadata": {},
   "outputs": [
    {
     "name": "stdout",
     "output_type": "stream",
     "text": [
      "<class 'pandas.core.frame.DataFrame'>\n",
      "Index: 7035 entries, 0 to 7047\n",
      "Data columns (total 21 columns):\n",
      " #   Column            Non-Null Count  Dtype  \n",
      "---  ------            --------------  -----  \n",
      " 0   customerID        7035 non-null   object \n",
      " 1   gender            7035 non-null   object \n",
      " 2   SeniorCitizen     7035 non-null   int64  \n",
      " 3   Partner           7035 non-null   object \n",
      " 4   Dependents        7035 non-null   object \n",
      " 5   tenure            7035 non-null   int64  \n",
      " 6   PhoneService      7035 non-null   object \n",
      " 7   MultipleLines     7035 non-null   object \n",
      " 8   InternetService   7035 non-null   object \n",
      " 9   OnlineSecurity    7035 non-null   object \n",
      " 10  OnlineBackup      7035 non-null   object \n",
      " 11  DeviceProtection  7035 non-null   object \n",
      " 12  TechSupport       7035 non-null   object \n",
      " 13  StreamingTV       7035 non-null   object \n",
      " 14  StreamingMovies   7035 non-null   object \n",
      " 15  Contract          7035 non-null   object \n",
      " 16  PaperlessBilling  7035 non-null   object \n",
      " 17  PaymentMethod     7035 non-null   object \n",
      " 18  MonthlyCharges    7035 non-null   object \n",
      " 19  TotalCharges      7035 non-null   float64\n",
      " 20  Churn             7035 non-null   object \n",
      "dtypes: float64(1), int64(2), object(18)\n",
      "memory usage: 1.2+ MB\n"
     ]
    }
   ],
   "source": [
    "# Check data types and non-null counts\n",
    "churn.info()"
   ]
  },
  {
   "cell_type": "code",
   "execution_count": 46,
   "id": "22a675a4-c8fa-4bdd-9911-01eee2169d0e",
   "metadata": {},
   "outputs": [
    {
     "data": {
      "text/html": [
       "<div>\n",
       "<style scoped>\n",
       "    .dataframe tbody tr th:only-of-type {\n",
       "        vertical-align: middle;\n",
       "    }\n",
       "\n",
       "    .dataframe tbody tr th {\n",
       "        vertical-align: top;\n",
       "    }\n",
       "\n",
       "    .dataframe thead th {\n",
       "        text-align: right;\n",
       "    }\n",
       "</style>\n",
       "<table border=\"1\" class=\"dataframe\">\n",
       "  <thead>\n",
       "    <tr style=\"text-align: right;\">\n",
       "      <th></th>\n",
       "      <th>customerID</th>\n",
       "      <th>gender</th>\n",
       "      <th>SeniorCitizen</th>\n",
       "      <th>Partner</th>\n",
       "      <th>Dependents</th>\n",
       "      <th>tenure</th>\n",
       "      <th>PhoneService</th>\n",
       "      <th>MultipleLines</th>\n",
       "      <th>InternetService</th>\n",
       "      <th>OnlineSecurity</th>\n",
       "      <th>...</th>\n",
       "      <th>DeviceProtection</th>\n",
       "      <th>TechSupport</th>\n",
       "      <th>StreamingTV</th>\n",
       "      <th>StreamingMovies</th>\n",
       "      <th>Contract</th>\n",
       "      <th>PaperlessBilling</th>\n",
       "      <th>PaymentMethod</th>\n",
       "      <th>MonthlyCharges</th>\n",
       "      <th>TotalCharges</th>\n",
       "      <th>Churn</th>\n",
       "    </tr>\n",
       "  </thead>\n",
       "  <tbody>\n",
       "    <tr>\n",
       "      <th>count</th>\n",
       "      <td>7035</td>\n",
       "      <td>7035</td>\n",
       "      <td>7035.000000</td>\n",
       "      <td>7035</td>\n",
       "      <td>7035</td>\n",
       "      <td>7035.000000</td>\n",
       "      <td>7035</td>\n",
       "      <td>7035</td>\n",
       "      <td>7035</td>\n",
       "      <td>7035</td>\n",
       "      <td>...</td>\n",
       "      <td>7035</td>\n",
       "      <td>7035</td>\n",
       "      <td>7035</td>\n",
       "      <td>7035</td>\n",
       "      <td>7035</td>\n",
       "      <td>7035</td>\n",
       "      <td>7035</td>\n",
       "      <td>7035</td>\n",
       "      <td>7035.000000</td>\n",
       "      <td>7035</td>\n",
       "    </tr>\n",
       "    <tr>\n",
       "      <th>unique</th>\n",
       "      <td>7035</td>\n",
       "      <td>2</td>\n",
       "      <td>NaN</td>\n",
       "      <td>2</td>\n",
       "      <td>2</td>\n",
       "      <td>NaN</td>\n",
       "      <td>2</td>\n",
       "      <td>3</td>\n",
       "      <td>3</td>\n",
       "      <td>3</td>\n",
       "      <td>...</td>\n",
       "      <td>3</td>\n",
       "      <td>3</td>\n",
       "      <td>3</td>\n",
       "      <td>3</td>\n",
       "      <td>3</td>\n",
       "      <td>2</td>\n",
       "      <td>4</td>\n",
       "      <td>1584</td>\n",
       "      <td>NaN</td>\n",
       "      <td>2</td>\n",
       "    </tr>\n",
       "    <tr>\n",
       "      <th>top</th>\n",
       "      <td>7590-VHVEG</td>\n",
       "      <td>Male</td>\n",
       "      <td>NaN</td>\n",
       "      <td>No</td>\n",
       "      <td>No</td>\n",
       "      <td>NaN</td>\n",
       "      <td>Yes</td>\n",
       "      <td>No</td>\n",
       "      <td>Fiber optic</td>\n",
       "      <td>No</td>\n",
       "      <td>...</td>\n",
       "      <td>No</td>\n",
       "      <td>No</td>\n",
       "      <td>No</td>\n",
       "      <td>No</td>\n",
       "      <td>Month-to-month</td>\n",
       "      <td>Yes</td>\n",
       "      <td>Electronic check</td>\n",
       "      <td>20.05</td>\n",
       "      <td>NaN</td>\n",
       "      <td>No</td>\n",
       "    </tr>\n",
       "    <tr>\n",
       "      <th>freq</th>\n",
       "      <td>1</td>\n",
       "      <td>3552</td>\n",
       "      <td>NaN</td>\n",
       "      <td>3637</td>\n",
       "      <td>4927</td>\n",
       "      <td>NaN</td>\n",
       "      <td>6355</td>\n",
       "      <td>3388</td>\n",
       "      <td>3097</td>\n",
       "      <td>3493</td>\n",
       "      <td>...</td>\n",
       "      <td>3100</td>\n",
       "      <td>3468</td>\n",
       "      <td>2807</td>\n",
       "      <td>2782</td>\n",
       "      <td>3872</td>\n",
       "      <td>4165</td>\n",
       "      <td>2362</td>\n",
       "      <td>61</td>\n",
       "      <td>NaN</td>\n",
       "      <td>5167</td>\n",
       "    </tr>\n",
       "    <tr>\n",
       "      <th>mean</th>\n",
       "      <td>NaN</td>\n",
       "      <td>NaN</td>\n",
       "      <td>0.162047</td>\n",
       "      <td>NaN</td>\n",
       "      <td>NaN</td>\n",
       "      <td>32.354797</td>\n",
       "      <td>NaN</td>\n",
       "      <td>NaN</td>\n",
       "      <td>NaN</td>\n",
       "      <td>NaN</td>\n",
       "      <td>...</td>\n",
       "      <td>NaN</td>\n",
       "      <td>NaN</td>\n",
       "      <td>NaN</td>\n",
       "      <td>NaN</td>\n",
       "      <td>NaN</td>\n",
       "      <td>NaN</td>\n",
       "      <td>NaN</td>\n",
       "      <td>NaN</td>\n",
       "      <td>2276.966745</td>\n",
       "      <td>NaN</td>\n",
       "    </tr>\n",
       "    <tr>\n",
       "      <th>std</th>\n",
       "      <td>NaN</td>\n",
       "      <td>NaN</td>\n",
       "      <td>0.368520</td>\n",
       "      <td>NaN</td>\n",
       "      <td>NaN</td>\n",
       "      <td>24.562230</td>\n",
       "      <td>NaN</td>\n",
       "      <td>NaN</td>\n",
       "      <td>NaN</td>\n",
       "      <td>NaN</td>\n",
       "      <td>...</td>\n",
       "      <td>NaN</td>\n",
       "      <td>NaN</td>\n",
       "      <td>NaN</td>\n",
       "      <td>NaN</td>\n",
       "      <td>NaN</td>\n",
       "      <td>NaN</td>\n",
       "      <td>NaN</td>\n",
       "      <td>NaN</td>\n",
       "      <td>2267.531075</td>\n",
       "      <td>NaN</td>\n",
       "    </tr>\n",
       "    <tr>\n",
       "      <th>min</th>\n",
       "      <td>NaN</td>\n",
       "      <td>NaN</td>\n",
       "      <td>0.000000</td>\n",
       "      <td>NaN</td>\n",
       "      <td>NaN</td>\n",
       "      <td>0.000000</td>\n",
       "      <td>NaN</td>\n",
       "      <td>NaN</td>\n",
       "      <td>NaN</td>\n",
       "      <td>NaN</td>\n",
       "      <td>...</td>\n",
       "      <td>NaN</td>\n",
       "      <td>NaN</td>\n",
       "      <td>NaN</td>\n",
       "      <td>NaN</td>\n",
       "      <td>NaN</td>\n",
       "      <td>NaN</td>\n",
       "      <td>NaN</td>\n",
       "      <td>NaN</td>\n",
       "      <td>0.000000</td>\n",
       "      <td>NaN</td>\n",
       "    </tr>\n",
       "    <tr>\n",
       "      <th>25%</th>\n",
       "      <td>NaN</td>\n",
       "      <td>NaN</td>\n",
       "      <td>0.000000</td>\n",
       "      <td>NaN</td>\n",
       "      <td>NaN</td>\n",
       "      <td>9.000000</td>\n",
       "      <td>NaN</td>\n",
       "      <td>NaN</td>\n",
       "      <td>NaN</td>\n",
       "      <td>NaN</td>\n",
       "      <td>...</td>\n",
       "      <td>NaN</td>\n",
       "      <td>NaN</td>\n",
       "      <td>NaN</td>\n",
       "      <td>NaN</td>\n",
       "      <td>NaN</td>\n",
       "      <td>NaN</td>\n",
       "      <td>NaN</td>\n",
       "      <td>NaN</td>\n",
       "      <td>393.775000</td>\n",
       "      <td>NaN</td>\n",
       "    </tr>\n",
       "    <tr>\n",
       "      <th>50%</th>\n",
       "      <td>NaN</td>\n",
       "      <td>NaN</td>\n",
       "      <td>0.000000</td>\n",
       "      <td>NaN</td>\n",
       "      <td>NaN</td>\n",
       "      <td>29.000000</td>\n",
       "      <td>NaN</td>\n",
       "      <td>NaN</td>\n",
       "      <td>NaN</td>\n",
       "      <td>NaN</td>\n",
       "      <td>...</td>\n",
       "      <td>NaN</td>\n",
       "      <td>NaN</td>\n",
       "      <td>NaN</td>\n",
       "      <td>NaN</td>\n",
       "      <td>NaN</td>\n",
       "      <td>NaN</td>\n",
       "      <td>NaN</td>\n",
       "      <td>NaN</td>\n",
       "      <td>1390.850000</td>\n",
       "      <td>NaN</td>\n",
       "    </tr>\n",
       "    <tr>\n",
       "      <th>75%</th>\n",
       "      <td>NaN</td>\n",
       "      <td>NaN</td>\n",
       "      <td>0.000000</td>\n",
       "      <td>NaN</td>\n",
       "      <td>NaN</td>\n",
       "      <td>55.000000</td>\n",
       "      <td>NaN</td>\n",
       "      <td>NaN</td>\n",
       "      <td>NaN</td>\n",
       "      <td>NaN</td>\n",
       "      <td>...</td>\n",
       "      <td>NaN</td>\n",
       "      <td>NaN</td>\n",
       "      <td>NaN</td>\n",
       "      <td>NaN</td>\n",
       "      <td>NaN</td>\n",
       "      <td>NaN</td>\n",
       "      <td>NaN</td>\n",
       "      <td>NaN</td>\n",
       "      <td>3783.200000</td>\n",
       "      <td>NaN</td>\n",
       "    </tr>\n",
       "    <tr>\n",
       "      <th>max</th>\n",
       "      <td>NaN</td>\n",
       "      <td>NaN</td>\n",
       "      <td>1.000000</td>\n",
       "      <td>NaN</td>\n",
       "      <td>NaN</td>\n",
       "      <td>72.000000</td>\n",
       "      <td>NaN</td>\n",
       "      <td>NaN</td>\n",
       "      <td>NaN</td>\n",
       "      <td>NaN</td>\n",
       "      <td>...</td>\n",
       "      <td>NaN</td>\n",
       "      <td>NaN</td>\n",
       "      <td>NaN</td>\n",
       "      <td>NaN</td>\n",
       "      <td>NaN</td>\n",
       "      <td>NaN</td>\n",
       "      <td>NaN</td>\n",
       "      <td>NaN</td>\n",
       "      <td>8684.800000</td>\n",
       "      <td>NaN</td>\n",
       "    </tr>\n",
       "  </tbody>\n",
       "</table>\n",
       "<p>11 rows × 21 columns</p>\n",
       "</div>"
      ],
      "text/plain": [
       "        customerID gender  SeniorCitizen Partner Dependents       tenure  \\\n",
       "count         7035   7035    7035.000000    7035       7035  7035.000000   \n",
       "unique        7035      2            NaN       2          2          NaN   \n",
       "top     7590-VHVEG   Male            NaN      No         No          NaN   \n",
       "freq             1   3552            NaN    3637       4927          NaN   \n",
       "mean           NaN    NaN       0.162047     NaN        NaN    32.354797   \n",
       "std            NaN    NaN       0.368520     NaN        NaN    24.562230   \n",
       "min            NaN    NaN       0.000000     NaN        NaN     0.000000   \n",
       "25%            NaN    NaN       0.000000     NaN        NaN     9.000000   \n",
       "50%            NaN    NaN       0.000000     NaN        NaN    29.000000   \n",
       "75%            NaN    NaN       0.000000     NaN        NaN    55.000000   \n",
       "max            NaN    NaN       1.000000     NaN        NaN    72.000000   \n",
       "\n",
       "       PhoneService MultipleLines InternetService OnlineSecurity  ...  \\\n",
       "count          7035          7035            7035           7035  ...   \n",
       "unique            2             3               3              3  ...   \n",
       "top             Yes            No     Fiber optic             No  ...   \n",
       "freq           6355          3388            3097           3493  ...   \n",
       "mean            NaN           NaN             NaN            NaN  ...   \n",
       "std             NaN           NaN             NaN            NaN  ...   \n",
       "min             NaN           NaN             NaN            NaN  ...   \n",
       "25%             NaN           NaN             NaN            NaN  ...   \n",
       "50%             NaN           NaN             NaN            NaN  ...   \n",
       "75%             NaN           NaN             NaN            NaN  ...   \n",
       "max             NaN           NaN             NaN            NaN  ...   \n",
       "\n",
       "       DeviceProtection TechSupport StreamingTV StreamingMovies  \\\n",
       "count              7035        7035        7035            7035   \n",
       "unique                3           3           3               3   \n",
       "top                  No          No          No              No   \n",
       "freq               3100        3468        2807            2782   \n",
       "mean                NaN         NaN         NaN             NaN   \n",
       "std                 NaN         NaN         NaN             NaN   \n",
       "min                 NaN         NaN         NaN             NaN   \n",
       "25%                 NaN         NaN         NaN             NaN   \n",
       "50%                 NaN         NaN         NaN             NaN   \n",
       "75%                 NaN         NaN         NaN             NaN   \n",
       "max                 NaN         NaN         NaN             NaN   \n",
       "\n",
       "              Contract PaperlessBilling     PaymentMethod MonthlyCharges  \\\n",
       "count             7035             7035              7035           7035   \n",
       "unique               3                2                 4           1584   \n",
       "top     Month-to-month              Yes  Electronic check          20.05   \n",
       "freq              3872             4165              2362             61   \n",
       "mean               NaN              NaN               NaN            NaN   \n",
       "std                NaN              NaN               NaN            NaN   \n",
       "min                NaN              NaN               NaN            NaN   \n",
       "25%                NaN              NaN               NaN            NaN   \n",
       "50%                NaN              NaN               NaN            NaN   \n",
       "75%                NaN              NaN               NaN            NaN   \n",
       "max                NaN              NaN               NaN            NaN   \n",
       "\n",
       "       TotalCharges  Churn  \n",
       "count   7035.000000   7035  \n",
       "unique          NaN      2  \n",
       "top             NaN     No  \n",
       "freq            NaN   5167  \n",
       "mean    2276.966745    NaN  \n",
       "std     2267.531075    NaN  \n",
       "min        0.000000    NaN  \n",
       "25%      393.775000    NaN  \n",
       "50%     1390.850000    NaN  \n",
       "75%     3783.200000    NaN  \n",
       "max     8684.800000    NaN  \n",
       "\n",
       "[11 rows x 21 columns]"
      ]
     },
     "execution_count": 46,
     "metadata": {},
     "output_type": "execute_result"
    }
   ],
   "source": [
    "churn.describe(include='all')"
   ]
  },
  {
   "cell_type": "code",
   "execution_count": 49,
   "id": "a705d3b7-3241-4aac-9398-3f9985216954",
   "metadata": {},
   "outputs": [
    {
     "name": "stdout",
     "output_type": "stream",
     "text": [
      "\n",
      "Column: customerID\n",
      "['7590-VHVEG' '5575-GNVDE' '3668-QPYBK' ... '4801-JZAZL' '8361-LTMKD'\n",
      " '3186-AJIEK']\n",
      "\n",
      "Column: gender\n",
      "['Female' 'Male']\n",
      "\n",
      "Column: SeniorCitizen\n",
      "[0 1]\n",
      "\n",
      "Column: Partner\n",
      "['Yes' 'No']\n",
      "\n",
      "Column: Dependents\n",
      "['No' 'Yes']\n",
      "\n",
      "Column: tenure\n",
      "[ 1 34  2 45  8 22 10 28 62 13 58 49 25 69 52 71 21 12 30 47 72 17 27  5\n",
      " 46 11 70 63 15 60 18 66  9  3 31 50 64 56  7 42 35 48 29 65 38 68 32 43\n",
      " 55 36 41  6  4 33 67 23 57 61 14 16 20 53 40 59 24 44 19 54 51 37 26  0\n",
      " 39]\n",
      "\n",
      "Column: PhoneService\n",
      "['No' 'Yes']\n",
      "\n",
      "Column: MultipleLines\n",
      "['No phone service' 'No' 'Yes']\n",
      "\n",
      "Column: InternetService\n",
      "['DSL' 'Fiber optic' 'No']\n",
      "\n",
      "Column: OnlineSecurity\n",
      "['No' 'Yes' 'No internet service']\n",
      "\n",
      "Column: OnlineBackup\n",
      "['Yes' 'No' 'No internet service']\n",
      "\n",
      "Column: DeviceProtection\n",
      "['No' 'Yes' 'No internet service']\n",
      "\n",
      "Column: TechSupport\n",
      "['No' 'Yes' 'No internet service']\n",
      "\n",
      "Column: StreamingTV\n",
      "['No' 'Yes' 'No internet service']\n",
      "\n",
      "Column: StreamingMovies\n",
      "['No' 'Yes' 'No internet service']\n",
      "\n",
      "Column: Contract\n",
      "['Month-to-month' 'One year' 'Two year']\n",
      "\n",
      "Column: PaperlessBilling\n",
      "['Yes' 'No']\n",
      "\n",
      "Column: PaymentMethod\n",
      "['Electronic check' 'Mailed check' 'Bank transfer (automatic)'\n",
      " 'Credit card (automatic)']\n",
      "\n",
      "Column: MonthlyCharges\n",
      "['29.85' '56.95' '53.85' ... '63.1' '44.2' '78.7']\n",
      "\n",
      "Column: TotalCharges\n",
      "[  29.85 1889.5   108.15 ...  346.45  306.6  6844.5 ]\n",
      "\n",
      "Column: Churn\n",
      "['No' 'Yes']\n"
     ]
    }
   ],
   "source": [
    "# Check for each column\n",
    "for col in churn.columns:\n",
    "    print(f\"\\nColumn: {col}\")\n",
    "    print(churn[col].unique())"
   ]
  },
  {
   "cell_type": "code",
   "execution_count": 50,
   "id": "34500e70-e655-422b-8707-7ee60414ef9f",
   "metadata": {},
   "outputs": [
    {
     "data": {
      "text/plain": [
       "customerID          0\n",
       "gender              0\n",
       "SeniorCitizen       0\n",
       "Partner             0\n",
       "Dependents          0\n",
       "tenure              0\n",
       "PhoneService        0\n",
       "MultipleLines       0\n",
       "InternetService     0\n",
       "OnlineSecurity      0\n",
       "OnlineBackup        0\n",
       "DeviceProtection    0\n",
       "TechSupport         0\n",
       "StreamingTV         0\n",
       "StreamingMovies     0\n",
       "Contract            0\n",
       "PaperlessBilling    0\n",
       "PaymentMethod       0\n",
       "MonthlyCharges      0\n",
       "TotalCharges        0\n",
       "Churn               0\n",
       "dtype: int64"
      ]
     },
     "execution_count": 50,
     "metadata": {},
     "output_type": "execute_result"
    }
   ],
   "source": [
    "(churn == '').sum()"
   ]
  },
  {
   "cell_type": "code",
   "execution_count": 51,
   "id": "c61a9969-7c31-4ce1-b9db-e6ca9108c0aa",
   "metadata": {},
   "outputs": [
    {
     "data": {
      "text/html": [
       "<div>\n",
       "<style scoped>\n",
       "    .dataframe tbody tr th:only-of-type {\n",
       "        vertical-align: middle;\n",
       "    }\n",
       "\n",
       "    .dataframe tbody tr th {\n",
       "        vertical-align: top;\n",
       "    }\n",
       "\n",
       "    .dataframe thead th {\n",
       "        text-align: right;\n",
       "    }\n",
       "</style>\n",
       "<table border=\"1\" class=\"dataframe\">\n",
       "  <thead>\n",
       "    <tr style=\"text-align: right;\">\n",
       "      <th></th>\n",
       "      <th>SeniorCitizen</th>\n",
       "      <th>tenure</th>\n",
       "      <th>TotalCharges</th>\n",
       "    </tr>\n",
       "  </thead>\n",
       "  <tbody>\n",
       "    <tr>\n",
       "      <th>count</th>\n",
       "      <td>7035.000000</td>\n",
       "      <td>7035.000000</td>\n",
       "      <td>7035.000000</td>\n",
       "    </tr>\n",
       "    <tr>\n",
       "      <th>mean</th>\n",
       "      <td>0.162047</td>\n",
       "      <td>32.354797</td>\n",
       "      <td>2276.966745</td>\n",
       "    </tr>\n",
       "    <tr>\n",
       "      <th>std</th>\n",
       "      <td>0.368520</td>\n",
       "      <td>24.562230</td>\n",
       "      <td>2267.531075</td>\n",
       "    </tr>\n",
       "    <tr>\n",
       "      <th>min</th>\n",
       "      <td>0.000000</td>\n",
       "      <td>0.000000</td>\n",
       "      <td>0.000000</td>\n",
       "    </tr>\n",
       "    <tr>\n",
       "      <th>25%</th>\n",
       "      <td>0.000000</td>\n",
       "      <td>9.000000</td>\n",
       "      <td>393.775000</td>\n",
       "    </tr>\n",
       "    <tr>\n",
       "      <th>50%</th>\n",
       "      <td>0.000000</td>\n",
       "      <td>29.000000</td>\n",
       "      <td>1390.850000</td>\n",
       "    </tr>\n",
       "    <tr>\n",
       "      <th>75%</th>\n",
       "      <td>0.000000</td>\n",
       "      <td>55.000000</td>\n",
       "      <td>3783.200000</td>\n",
       "    </tr>\n",
       "    <tr>\n",
       "      <th>max</th>\n",
       "      <td>1.000000</td>\n",
       "      <td>72.000000</td>\n",
       "      <td>8684.800000</td>\n",
       "    </tr>\n",
       "  </tbody>\n",
       "</table>\n",
       "</div>"
      ],
      "text/plain": [
       "       SeniorCitizen       tenure  TotalCharges\n",
       "count    7035.000000  7035.000000   7035.000000\n",
       "mean        0.162047    32.354797   2276.966745\n",
       "std         0.368520    24.562230   2267.531075\n",
       "min         0.000000     0.000000      0.000000\n",
       "25%         0.000000     9.000000    393.775000\n",
       "50%         0.000000    29.000000   1390.850000\n",
       "75%         0.000000    55.000000   3783.200000\n",
       "max         1.000000    72.000000   8684.800000"
      ]
     },
     "execution_count": 51,
     "metadata": {},
     "output_type": "execute_result"
    }
   ],
   "source": [
    "churn.describe()"
   ]
  },
  {
   "cell_type": "code",
   "execution_count": 52,
   "id": "fd0ea0d5-ac21-4614-9276-9f128b8aeeaf",
   "metadata": {},
   "outputs": [
    {
     "data": {
      "text/plain": [
       "Churn\n",
       "No     0.734471\n",
       "Yes    0.265529\n",
       "Name: proportion, dtype: float64"
      ]
     },
     "execution_count": 52,
     "metadata": {},
     "output_type": "execute_result"
    }
   ],
   "source": [
    "churn['Churn'].value_counts(normalize=True)"
   ]
  },
  {
   "cell_type": "code",
   "execution_count": 53,
   "id": "52691906-eaf6-40e9-934a-c4737ab768dd",
   "metadata": {},
   "outputs": [],
   "source": [
    "# Create tenure groups for better categorization\n",
    "def tenure_group(tenure):\n",
    "    if tenure <= 12:\n",
    "        return '0-12 Months'\n",
    "    elif tenure <= 24:\n",
    "        return '12-24 Months'\n",
    "    elif tenure <= 48:\n",
    "        return '24-48 Months'\n",
    "    elif tenure <= 60:\n",
    "        return '48-60 Months'\n",
    "    else:\n",
    "        return '60+ Months'"
   ]
  },
  {
   "cell_type": "code",
   "execution_count": 56,
   "id": "3f9f2cf0-aa6d-440b-8286-39ce3413bbad",
   "metadata": {},
   "outputs": [],
   "source": [
    "churn['tenure_group'] = churn['tenure'].apply(tenure_group)\n",
    "churn['tenure_group'] = churn['tenure_group'].astype('category')"
   ]
  },
  {
   "cell_type": "code",
   "execution_count": 58,
   "id": "e6fd7cc2-b441-4e20-baf5-ec6ff664fcda",
   "metadata": {},
   "outputs": [
    {
     "data": {
      "text/html": [
       "<div>\n",
       "<style scoped>\n",
       "    .dataframe tbody tr th:only-of-type {\n",
       "        vertical-align: middle;\n",
       "    }\n",
       "\n",
       "    .dataframe tbody tr th {\n",
       "        vertical-align: top;\n",
       "    }\n",
       "\n",
       "    .dataframe thead th {\n",
       "        text-align: right;\n",
       "    }\n",
       "</style>\n",
       "<table border=\"1\" class=\"dataframe\">\n",
       "  <thead>\n",
       "    <tr style=\"text-align: right;\">\n",
       "      <th></th>\n",
       "      <th>tenure</th>\n",
       "      <th>tenure_group</th>\n",
       "    </tr>\n",
       "  </thead>\n",
       "  <tbody>\n",
       "    <tr>\n",
       "      <th>0</th>\n",
       "      <td>1</td>\n",
       "      <td>0-12 Months</td>\n",
       "    </tr>\n",
       "    <tr>\n",
       "      <th>1</th>\n",
       "      <td>34</td>\n",
       "      <td>24-48 Months</td>\n",
       "    </tr>\n",
       "    <tr>\n",
       "      <th>2</th>\n",
       "      <td>2</td>\n",
       "      <td>0-12 Months</td>\n",
       "    </tr>\n",
       "    <tr>\n",
       "      <th>3</th>\n",
       "      <td>45</td>\n",
       "      <td>24-48 Months</td>\n",
       "    </tr>\n",
       "    <tr>\n",
       "      <th>4</th>\n",
       "      <td>2</td>\n",
       "      <td>0-12 Months</td>\n",
       "    </tr>\n",
       "    <tr>\n",
       "      <th>6</th>\n",
       "      <td>8</td>\n",
       "      <td>0-12 Months</td>\n",
       "    </tr>\n",
       "    <tr>\n",
       "      <th>7</th>\n",
       "      <td>22</td>\n",
       "      <td>12-24 Months</td>\n",
       "    </tr>\n",
       "    <tr>\n",
       "      <th>8</th>\n",
       "      <td>10</td>\n",
       "      <td>0-12 Months</td>\n",
       "    </tr>\n",
       "    <tr>\n",
       "      <th>9</th>\n",
       "      <td>28</td>\n",
       "      <td>24-48 Months</td>\n",
       "    </tr>\n",
       "    <tr>\n",
       "      <th>10</th>\n",
       "      <td>62</td>\n",
       "      <td>60+ Months</td>\n",
       "    </tr>\n",
       "  </tbody>\n",
       "</table>\n",
       "</div>"
      ],
      "text/plain": [
       "    tenure  tenure_group\n",
       "0        1   0-12 Months\n",
       "1       34  24-48 Months\n",
       "2        2   0-12 Months\n",
       "3       45  24-48 Months\n",
       "4        2   0-12 Months\n",
       "6        8   0-12 Months\n",
       "7       22  12-24 Months\n",
       "8       10   0-12 Months\n",
       "9       28  24-48 Months\n",
       "10      62    60+ Months"
      ]
     },
     "execution_count": 58,
     "metadata": {},
     "output_type": "execute_result"
    }
   ],
   "source": [
    "# Check the tenure and tenure group created above\n",
    "churn[['tenure', 'tenure_group']].head(10)"
   ]
  },
  {
   "cell_type": "code",
   "execution_count": 60,
   "id": "c3a94fdf-0f78-41ff-98d6-a3df224ad8c8",
   "metadata": {},
   "outputs": [
    {
     "name": "stdout",
     "output_type": "stream",
     "text": [
      "Cleaned data saved to customer_churn_cleaned.csv\n"
     ]
    }
   ],
   "source": [
    "# Save the cleaned dataset\n",
    "churn.to_csv('customer_churn_cleaned.csv', index=False)\n",
    "print(\"Cleaned data saved to customer_churn_cleaned.csv\")"
   ]
  },
  {
   "cell_type": "code",
   "execution_count": 63,
   "id": "920cd585-3ec6-4795-b994-c74f728728c0",
   "metadata": {},
   "outputs": [
    {
     "name": "stdout",
     "output_type": "stream",
     "text": [
      "Churn\n",
      "No     37.555642\n",
      "Yes    17.968951\n",
      "Name: tenure, dtype: float64\n"
     ]
    }
   ],
   "source": [
    "# Average tenure by churn status\n",
    "print(churn.groupby('Churn')['tenure'].mean())"
   ]
  },
  {
   "cell_type": "code",
   "execution_count": 64,
   "id": "01306d99-5c93-477f-a2a2-90d5e8f95016",
   "metadata": {},
   "outputs": [],
   "source": [
    "import seaborn as sns\n",
    "import matplotlib.pyplot as plt"
   ]
  },
  {
   "cell_type": "code",
   "execution_count": 66,
   "id": "71d232b7-e361-49d9-af84-fe7848c12255",
   "metadata": {},
   "outputs": [
    {
     "data": {
      "image/png": "[encoded data removed]",
      "text/plain": [
       "<Figure size 640x480 with 1 Axes>"
      ]
     },
     "metadata": {},
     "output_type": "display_data"
    }
   ],
   "source": [
    "sns.boxplot(data=churn, x='Churn', y='tenure')\n",
    "plt.title('Tenure by Churn Status')\n",
    "plt.show()"
   ]
  },
  {
   "cell_type": "code",
   "execution_count": 74,
   "id": "3bc839bb-be7c-4556-9b17-55328ac88c62",
   "metadata": {},
   "outputs": [
    {
     "name": "stdout",
     "output_type": "stream",
     "text": [
      "Churn\n",
      "No     61.264128\n",
      "Yes    74.426018\n",
      "Name: MonthlyCharges, dtype: float64\n"
     ]
    }
   ],
   "source": [
    "# Average monthly charges by churn status\n",
    "print(churn.groupby('Churn')['MonthlyCharges'].mean())"
   ]
  },
  {
   "cell_type": "code",
   "execution_count": 76,
   "id": "9ab6fa2e-cafa-4a8f-9476-a5c4368479da",
   "metadata": {},
   "outputs": [
    {
     "data": {
      "image/png": "[encoded data removed]",
      "text/plain": [
       "<Figure size 640x480 with 1 Axes>"
      ]
     },
     "metadata": {},
     "output_type": "display_data"
    }
   ],
   "source": [
    "sns.histplot(data=churn, x='MonthlyCharges', hue='Churn', kde=True, element='step')\n",
    "plt.title('Monthly Charges Distribution by Churn')\n",
    "plt.show()"
   ]
  },
  {
   "cell_type": "code",
   "execution_count": 77,
   "id": "b168bede-260d-4388-8b84-ecf9adb27894",
   "metadata": {},
   "outputs": [
    {
     "name": "stdout",
     "output_type": "stream",
     "text": [
      "Churn                  No       Yes\n",
      "InternetService                    \n",
      "DSL              0.809859  0.190141\n",
      "Fiber optic      0.581531  0.418469\n",
      "No               0.925853  0.074147\n"
     ]
    }
   ],
   "source": [
    "# Churn rate by InternetService\n",
    "print(churn.groupby('InternetService')['Churn'].value_counts(normalize=True).unstack())"
   ]
  },
  {
   "cell_type": "code",
   "execution_count": 78,
   "id": "ce5646bf-b16d-4ae9-ba5a-10fabb23d5b3",
   "metadata": {},
   "outputs": [
    {
     "data": {
      "image/png": "[encoded data removed]",
      "text/plain": [
       "<Figure size 640x480 with 1 Axes>"
      ]
     },
     "metadata": {},
     "output_type": "display_data"
    }
   ],
   "source": [
    "sns.countplot(data=churn, x='InternetService', hue='Churn')\n",
    "plt.title('Churn by Internet Service Type')\n",
    "plt.show()"
   ]
  },
  {
   "cell_type": "code",
   "execution_count": 79,
   "id": "513434c5-a435-4dd7-a620-c3f0cfa6d16c",
   "metadata": {},
   "outputs": [],
   "source": [
    "# Convert to Yes/No for readability\n",
    "churn['SeniorCitizen'] = churn['SeniorCitizen'].apply(lambda x: 'Yes' if x == 1 else 'No')"
   ]
  },
  {
   "cell_type": "code",
   "execution_count": 80,
   "id": "535eb7db-d217-43b7-a441-1cc4ed09e57f",
   "metadata": {},
   "outputs": [
    {
     "name": "stdout",
     "output_type": "stream",
     "text": [
      "Churn                No       Yes\n",
      "SeniorCitizen                    \n",
      "No             0.763698  0.236302\n",
      "Yes            0.583333  0.416667\n"
     ]
    }
   ],
   "source": [
    "# Churn rates for senior citizens\n",
    "print(churn.groupby('SeniorCitizen')['Churn'].value_counts(normalize=True).unstack())"
   ]
  },
  {
   "cell_type": "code",
   "execution_count": 81,
   "id": "b40e2ef2-e4f5-4f89-9d87-3f6dbd38961e",
   "metadata": {},
   "outputs": [
    {
     "data": {
      "image/png": "[encoded data removed]",
      "text/plain": [
       "<Figure size 640x480 with 1 Axes>"
      ]
     },
     "metadata": {},
     "output_type": "display_data"
    }
   ],
   "source": [
    "sns.countplot(data=churn, x='SeniorCitizen', hue='Churn')\n",
    "plt.title('Churn by Senior Citizen Status')\n",
    "plt.show()"
   ]
  },
  {
   "cell_type": "code",
   "execution_count": null,
   "id": "2e7314c4-b4c9-4f8b-999c-721f6bb3e890",
   "metadata": {},
   "outputs": [],
   "source": []
  }
 ],
 "metadata": {
  "kernelspec": {
   "display_name": "Python 3 (ipykernel)",
   "language": "python",
   "name": "python3"
  },
  "language_info": {
   "codemirror_mode": {
    "name": "ipython",
    "version": 3
   },
   "file_extension": ".py",
   "mimetype": "text/x-python",
   "name": "python",
   "nbconvert_exporter": "python",
   "pygments_lexer": "ipython3",
   "version": "3.12.7"
  }
 },
 "nbformat": 4,
 "nbformat_minor": 5
}
